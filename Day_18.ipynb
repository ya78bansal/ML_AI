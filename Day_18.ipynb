{
 "cells": [
  {
   "cell_type": "code",
   "execution_count": 4,
   "metadata": {},
   "outputs": [],
   "source": [
    "import cv2\n",
    "hog=cv2.HOGDescriptor()"
   ]
  },
  {
   "cell_type": "code",
   "execution_count": 5,
   "metadata": {},
   "outputs": [],
   "source": [
    "hog.setSVMDetector(cv2.HOGDescriptor_getDefaultPeopleDetector())"
   ]
  },
  {
   "cell_type": "code",
   "execution_count": 6,
   "metadata": {},
   "outputs": [],
   "source": [
    "vid=cv2.VideoCapture(0)\n",
    "while True:\n",
    "    flag,img = vid.read()\n",
    "    if flag:\n",
    "        img_gray=cv2.cvtColor(img,cv2.COLOR_BGRA2GRAY)\n",
    "        bounding_boxes,weights = hog.detectMultiScale(img_gray,winStride=(10,10))\n",
    "        for x,y,w,h in bounding_boxes:\n",
    "            cv2.rectangle(img,pt1=(x,y),pt2=(x+w,y+h),color=(0,0,255),thickness=8)\n",
    "        cv2.imshow('preview',img)\n",
    "        key=cv2.waitKey(1)\n",
    "        if key == ord('q'):\n",
    "            break\n",
    "cv2.destroyAllWindows()\n",
    "vid.release()"
   ]
  },
  {
   "cell_type": "code",
   "execution_count": null,
   "metadata": {},
   "outputs": [],
   "source": []
  }
 ],
 "metadata": {
  "kernelspec": {
   "display_name": "Python 3",
   "language": "python",
   "name": "python3"
  },
  "language_info": {
   "codemirror_mode": {
    "name": "ipython",
    "version": 3
   },
   "file_extension": ".py",
   "mimetype": "text/x-python",
   "name": "python",
   "nbconvert_exporter": "python",
   "pygments_lexer": "ipython3",
   "version": "3.10.8"
  },
  "orig_nbformat": 4
 },
 "nbformat": 4,
 "nbformat_minor": 2
}
