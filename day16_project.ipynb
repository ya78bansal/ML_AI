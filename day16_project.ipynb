{
 "cells": [
  {
   "cell_type": "code",
   "execution_count": 6,
   "metadata": {},
   "outputs": [],
   "source": [
    "import cv2\n",
    "import face_recognition as fr\n",
    "import pandas as pd"
   ]
  },
  {
   "cell_type": "code",
   "execution_count": 8,
   "metadata": {},
   "outputs": [],
   "source": [
    "fd=cv2.CascadeClassifier(cv2.data.haarcascades + 'haarcascade_frontalface_default.xml')\n",
    "vid=cv2.VideoCapture(0)\n",
    "name=input('enter your name')\n",
    "frameLimit=20\n",
    "frameCount = 0\n",
    "names=[]\n",
    "enc=[]\n",
    "while True:\n",
    "    flag,img=vid.read()\n",
    "    if flag:\n",
    "        img_gray=cv2.cvtColor(img,cv2.COLOR_BGR2GRAY)\n",
    "        faces=fd.detectMultiScale(img_gray,scaleFactor=1.1,minNeighbors=5,minSize=(50,50))\n",
    "        if len(faces)==1:\n",
    "            x,y,w,h= faces[0]\n",
    "            img_face= img[y:y+h,x:x+w,:].copy()\n",
    "            img_face = cv2.resize(img_face,(400,400),cv2.INTER_CUBIC)\n",
    "            face_encoding=fr.face_encodings(img_face)\n",
    "            if len(face_encoding)==1:\n",
    "                enc.append(face_encoding[0].tolist())\n",
    "                \n",
    "                # print(face_encoding)\n",
    "                # enc.append(face_encoding[0])\n",
    "                names.append(name)\n",
    "                frameCount += 1\n",
    "                cv2.putText(\n",
    "                    img,str(frameCount),(30,30),\n",
    "                    cv2.FONT_HERSHEY_COMPLEX, 1.5,(0,0,255),5\n",
    "                )\n",
    "                if frameCount == frameLimit:\n",
    "                    try:\n",
    "                        old_data=pd.read_csv('face_data.csv',index_col=0,sep='|')\n",
    "                    except Exception as e:\n",
    "                        print(e)\n",
    "                    else:\n",
    "                        enc_old=old_data['encoding'].values.tolist()\n",
    "                        names_old=old_data['names'].values.tolist()\n",
    "                        enc=enc_old+enc\n",
    "                        names=names_old+names\n",
    "                    \n",
    "                    data={'names':names,'encoding':enc}\n",
    "                    pd.DataFrame(data).to_csv('face_data.csv',sep='|')\n",
    "                    break\n",
    "            \n",
    "        for x,y,w,h in faces:\n",
    "            cv2.rectangle(img,pt1=(x,y),pt2=(x+w,y+h),color=(0,0,255),thickness=8)\n",
    "        \n",
    "        cv2.imshow('preview',img)\n",
    "        key=cv2.waitKey(1)\n",
    "        if key == ord('q'):\n",
    "            break\n",
    "    else:\n",
    "        print(\"No frame\")\n",
    "        break\n",
    "# data={'names':names,'encoding':enc}\n",
    "# pd.DataFrame(data).to_csv('face_data.csv',sep='|')\n",
    "cv2.destroyAllWindows()\n",
    "cv2.waitKey(1)\n",
    "vid.release()"
   ]
  },
  {
   "cell_type": "code",
   "execution_count": 19,
   "metadata": {},
   "outputs": [],
   "source": [
    "name='Abhay bansal'\n",
    "enc=[]"
   ]
  },
  {
   "cell_type": "code",
   "execution_count": 20,
   "metadata": {},
   "outputs": [],
   "source": [
    "names=[]"
   ]
  },
  {
   "cell_type": "code",
   "execution_count": 21,
   "metadata": {},
   "outputs": [],
   "source": [
    "encoding=[3,4,5,6,78]"
   ]
  },
  {
   "cell_type": "code",
   "execution_count": 22,
   "metadata": {},
   "outputs": [],
   "source": [
    "enc.append(encoding)"
   ]
  },
  {
   "cell_type": "code",
   "execution_count": 23,
   "metadata": {},
   "outputs": [],
   "source": [
    "names.append(name)"
   ]
  },
  {
   "cell_type": "code",
   "execution_count": 24,
   "metadata": {},
   "outputs": [
    {
     "data": {
      "text/plain": [
       "[[3, 4, 5, 6, 78]]"
      ]
     },
     "execution_count": 24,
     "metadata": {},
     "output_type": "execute_result"
    }
   ],
   "source": [
    "enc"
   ]
  },
  {
   "cell_type": "code",
   "execution_count": 25,
   "metadata": {},
   "outputs": [
    {
     "data": {
      "text/plain": [
       "['Abhay bansal']"
      ]
     },
     "execution_count": 25,
     "metadata": {},
     "output_type": "execute_result"
    }
   ],
   "source": [
    "names"
   ]
  },
  {
   "cell_type": "code",
   "execution_count": 26,
   "metadata": {},
   "outputs": [],
   "source": [
    "data={'names':names,'encoding':enc}"
   ]
  },
  {
   "cell_type": "code",
   "execution_count": 27,
   "metadata": {},
   "outputs": [
    {
     "data": {
      "text/plain": [
       "{'names': ['Abhay bansal'], 'encoding': [[3, 4, 5, 6, 78]]}"
      ]
     },
     "execution_count": 27,
     "metadata": {},
     "output_type": "execute_result"
    }
   ],
   "source": [
    "data"
   ]
  },
  {
   "cell_type": "code",
   "execution_count": 28,
   "metadata": {},
   "outputs": [],
   "source": [
    "import pandas as pd\n",
    "pd.DataFrame(data).to_csv('face_data.csv')"
   ]
  },
  {
   "cell_type": "code",
   "execution_count": null,
   "metadata": {},
   "outputs": [],
   "source": [
    "fd=cv2.CascadeClassifier(cv2.data.haarcascades + 'haarcascade_frontalface_default.xml')\n",
    "vid=cv2.VideoCapture(0)\n",
    "face_data=pd.read_csv('face_data.csv')\n",
    "while True:\n",
    "    flag,img=vid.read()\n",
    "    if flag:\n",
    "        img_gray=cv2.cvtColor(img,cv2.COLOR_BGR2GRAY)\n",
    "        faces=fd.detectMultiScale(img_gray,scaleFactor=1.1,minNeighbors=5,minSize=(50,50))\n",
    "        if len(faces)==1:\n",
    "            x,y,w,h= faces[0]\n",
    "            img_face= img[y:y+h,x:x+w,:].copy()\n",
    "            img_face = cv2.resize(img_face,(400,400),cv2.INTER_CUBIC)\n",
    "            face_encoding=fr.face_encodings(img_face)\n",
    "            if len(face_encoding)==1:\n",
    "                for ind, face_db in face_data.iterrows():\n",
    "                    matched = fr.compare_faces(\n",
    "                     face_encoding[0],face_db['encoding'])\n",
    "                    if matched:\n",
    "                        print(face_db['name'])\n",
    "                \n",
    "            # print(face_encoding)\n",
    "                # enc.append(face_encoding[0])\n",
    "                # names.append(name)\n",
    "                # frameCount += 1\n",
    "                # if frameCount == frameLimit:\n",
    "                #     break\n",
    "            \n",
    "        for x,y,w,h in faces:\n",
    "            cv2.rectangle(img,pt1=(x,y),pt2=(x+w,y+h),color=(0,0,255),thickness=8)\n",
    "        \n",
    "        cv2.imshow('preview',img)\n",
    "        key=cv2.waitKey(1)\n",
    "        if key == ord('q'):\n",
    "            break\n",
    "    else:\n",
    "        print(\"No frame\")\n",
    "        break\n",
    "data={'names':names,'encoding':enc}\n",
    "pd.DataFrame(data).to_csv('face_data.csv')\n",
    "cv2.destroyAllWindows()\n",
    "cv2.waitKey(1)\n",
    "vid.release()"
   ]
  }
 ],
 "metadata": {
  "kernelspec": {
   "display_name": "Python 3",
   "language": "python",
   "name": "python3"
  },
  "language_info": {
   "codemirror_mode": {
    "name": "ipython",
    "version": 3
   },
   "file_extension": ".py",
   "mimetype": "text/x-python",
   "name": "python",
   "nbconvert_exporter": "python",
   "pygments_lexer": "ipython3",
   "version": "3.10.8"
  },
  "orig_nbformat": 4
 },
 "nbformat": 4,
 "nbformat_minor": 2
}
